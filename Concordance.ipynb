{
 "cells": [
  {
   "cell_type": "code",
   "execution_count": null,
   "id": "5c3d3029-794d-45ee-ac42-598234a2c430",
   "metadata": {},
   "outputs": [],
   "source": [
    "#this calculates the concordance scores between whether someone recidivised and their decile scores\n",
    "#it checks every pair within a random sample or rows and when one person recidivised and the other didn't checks that the recidivist's score is higher\n",
    "def concordance_decile_score(df,columns,sample_size):\n",
    "    identifier, score = columns\n",
    "    true_count = 0\n",
    "    false_count = 0\n",
    "    concordance_df = df[columns]\n",
    "    concordance_df = concordance_df.sample(sample_size)\n",
    "    concordance_df = concordance_df.reset_index()\n",
    "    index_pairs = list(combinations(concordance_df.index, 2))\n",
    "    for pair in index_pairs:\n",
    "        index1, index2 = pair\n",
    "        row1, row2 = df.iloc[index1], df.iloc[index2]\n",
    "        if row1[identifier] > row2[identifier]:\n",
    "            if row1[score] > row2[score]:\n",
    "                true_count += 1\n",
    "            elif row1[score] < row2[score]:\n",
    "                false_count += 1\n",
    "        elif row1[identifier] < row2[identifier]:\n",
    "            if row1[score] < row2[score]:\n",
    "                true_count += 1\n",
    "            elif row1[score] > row2[score]:\n",
    "                false_count += 1\n",
    "    concordance = true_count / (true_count + false_count)\n",
    "    return concordance * 100\n",
    "concordance_decile_score(grp,['is_recid','decile_score'],100)\n",
    "   "
   ]
  },
  {
   "cell_type": "code",
   "execution_count": null,
   "id": "59d4ce5e-fff6-45f4-a133-e8e8a8a2ffad",
   "metadata": {},
   "outputs": [],
   "source": [
    "def concordance_text_score(df,columns,sample_size):\n",
    "    identifier, score = columns\n",
    "    true_count = 0\n",
    "    false_count = 0\n",
    "    concordance_df = df[columns]\n",
    "    concordance_df = concordance_df.sample(sample_size)\n",
    "    concordance_df = concordance_df.reset_index()\n",
    "    concordance_df[score] = concordance_df[score].replace(['Low','Medium','High'],[0,1,1])\n",
    "    index_pairs = list(combinations(concordance_df.index, 2))\n",
    "    for pair in index_pairs:\n",
    "        index1, index2 = pair\n",
    "        row1, row2 = df.iloc[index1], df.iloc[index2]\n",
    "        if row1[identifier] > row2[identifier]:\n",
    "            if row1[score] > row2[score]:\n",
    "                true_count += 1\n",
    "            elif row1[score] < row2[score]:\n",
    "                false_count += 1\n",
    "        elif row1[identifier] < row2[identifier]:\n",
    "            if row1[score] < row2[score]:\n",
    "                true_count += 1\n",
    "            elif row1[score] < row2[score]:\n",
    "                false_count += 1\n",
    "    concordance = true_count / (true_count + false_count)\n",
    "    return concordance * 100\n",
    "concordance_text_score(grp,['is_recid','score_text'],100)"
   ]
  },
  {
   "cell_type": "code",
   "execution_count": null,
   "id": "854252ff-276c-423c-b35f-cf43303998d1",
   "metadata": {},
   "outputs": [],
   "source": [
    "concordance_decile_score(grp[grp['race'] == 'Caucasian'],['is_recid','decile_score'],1000)\n",
    "#concordance for african american is 68.4\n",
    "#concordance for white people is 68.344\n",
    "#similar accuracies but for white people the bad accuracy is beneficial and for black people it is negative"
   ]
  }
 ],
 "metadata": {
  "kernelspec": {
   "display_name": "Python 3 (ipykernel)",
   "language": "python",
   "name": "python3"
  },
  "language_info": {
   "codemirror_mode": {
    "name": "ipython",
    "version": 3
   },
   "file_extension": ".py",
   "mimetype": "text/x-python",
   "name": "python",
   "nbconvert_exporter": "python",
   "pygments_lexer": "ipython3",
   "version": "3.11.5"
  }
 },
 "nbformat": 4,
 "nbformat_minor": 5
}
