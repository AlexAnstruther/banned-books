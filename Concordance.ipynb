{
 "cells": [
  {
   "cell_type": "code",
   "execution_count": 1,
   "id": "fa8345f3-5117-44a6-8757-d4f8e807dd08",
   "metadata": {
    "tags": []
   },
   "outputs": [
    {
     "data": {
      "text/plain": [
       "'Modules imported succesfully'"
      ]
     },
     "metadata": {},
     "output_type": "display_data"
    },
    {
     "data": {
      "text/plain": [
       "\"All tests passed. Your dataframes are: 'df', 'violent_df' and 'cox_df'\""
      ]
     },
     "metadata": {},
     "output_type": "display_data"
    }
   ],
   "source": [
    "%run -i projtools/imports.py\n",
    "%run -i projtools/data.py"
   ]
  },
  {
   "cell_type": "code",
   "execution_count": 2,
   "id": "5c3d3029-794d-45ee-ac42-598234a2c430",
   "metadata": {},
   "outputs": [
    {
     "data": {
      "text/plain": [
       "67.27019498607241"
      ]
     },
     "execution_count": 2,
     "metadata": {},
     "output_type": "execute_result"
    }
   ],
   "source": [
    "#this calculates the concordance scores between whether someone recidivised and their decile scores\n",
    "#it checks every pair within a random sample or rows and when one person recidivised and the other didn't checks that the recidivist's score is higher\n",
    "def concordance_decile_score(df,columns,sample_size):\n",
    "    identifier, score = columns\n",
    "    true_count = 0\n",
    "    false_count = 0\n",
    "    concordance_df = df[columns]\n",
    "    concordance_df = concordance_df.sample(sample_size)\n",
    "    concordance_df = concordance_df.reset_index()\n",
    "    index_pairs = list(combinations(concordance_df.index, 2))\n",
    "    for pair in index_pairs:\n",
    "        index1, index2 = pair\n",
    "        row1, row2 = df.iloc[index1], df.iloc[index2]\n",
    "        if row1[identifier] > row2[identifier]:\n",
    "            if row1[score] > row2[score]:\n",
    "                true_count += 1\n",
    "            elif row1[score] < row2[score]:\n",
    "                false_count += 1\n",
    "        elif row1[identifier] < row2[identifier]:\n",
    "            if row1[score] < row2[score]:\n",
    "                true_count += 1\n",
    "            elif row1[score] > row2[score]:\n",
    "                false_count += 1\n",
    "    concordance = true_count / (true_count + false_count)\n",
    "    return concordance * 100\n",
    "concordance_decile_score(cox_df,['is_recid','decile_score'],100)"
   ]
  },
  {
   "cell_type": "code",
   "execution_count": 3,
   "id": "59d4ce5e-fff6-45f4-a133-e8e8a8a2ffad",
   "metadata": {},
   "outputs": [
    {
     "data": {
      "text/plain": [
       "67.42493175614194"
      ]
     },
     "execution_count": 3,
     "metadata": {},
     "output_type": "execute_result"
    }
   ],
   "source": [
    "def concordance_text_score(df,columns,sample_size):\n",
    "    identifier, score = columns\n",
    "    true_count = 0\n",
    "    false_count = 0\n",
    "    concordance_df = df[columns]\n",
    "    concordance_df = concordance_df.sample(sample_size)\n",
    "    concordance_df = concordance_df.reset_index()\n",
    "    concordance_df[score] = concordance_df[score].replace(['Low','Medium','High'],[0,1,1])\n",
    "    index_pairs = list(combinations(concordance_df.index, 2))\n",
    "    for pair in index_pairs:\n",
    "        index1, index2 = pair\n",
    "        row1, row2 = df.iloc[index1], df.iloc[index2]\n",
    "        if row1[identifier] > row2[identifier]:\n",
    "            if row1[score] > row2[score]:\n",
    "                true_count += 1\n",
    "            elif row1[score] < row2[score]:\n",
    "                false_count += 1\n",
    "        elif row1[identifier] < row2[identifier]:\n",
    "            if row1[score] < row2[score]:\n",
    "                true_count += 1\n",
    "            elif row1[score] < row2[score]:\n",
    "                false_count += 1\n",
    "    concordance = true_count / (true_count + false_count)\n",
    "    return concordance * 100\n",
    "concordance_text_score(cox_df,['is_recid','score_text'],100)"
   ]
  },
  {
   "cell_type": "code",
   "execution_count": 4,
   "id": "854252ff-276c-423c-b35f-cf43303998d1",
   "metadata": {},
   "outputs": [
    {
     "ename": "NameError",
     "evalue": "name 'grp' is not defined",
     "output_type": "error",
     "traceback": [
      "\u001b[0;31m---------------------------------------------------------------------------\u001b[0m",
      "\u001b[0;31mNameError\u001b[0m                                 Traceback (most recent call last)",
      "Cell \u001b[0;32mIn[4], line 1\u001b[0m\n\u001b[0;32m----> 1\u001b[0m concordance_decile_score(grp[grp[\u001b[38;5;124m'\u001b[39m\u001b[38;5;124mrace\u001b[39m\u001b[38;5;124m'\u001b[39m] \u001b[38;5;241m==\u001b[39m \u001b[38;5;124m'\u001b[39m\u001b[38;5;124mCaucasian\u001b[39m\u001b[38;5;124m'\u001b[39m],[\u001b[38;5;124m'\u001b[39m\u001b[38;5;124mis_recid\u001b[39m\u001b[38;5;124m'\u001b[39m,\u001b[38;5;124m'\u001b[39m\u001b[38;5;124mdecile_score\u001b[39m\u001b[38;5;124m'\u001b[39m],\u001b[38;5;241m1000\u001b[39m)\n",
      "\u001b[0;31mNameError\u001b[0m: name 'grp' is not defined"
     ]
    }
   ],
   "source": [
    "concordance_decile_score(grp[grp['race'] == 'Caucasian'],['is_recid','decile_score'],1000)\n",
    "#concordance for african american is 68.4\n",
    "#concordance for white people is 68.344\n",
    "#similar accuracies but for white people the bad accuracy is beneficial and for black people it is negative"
   ]
  }
 ],
 "metadata": {
  "kernelspec": {
   "display_name": "Python 3 (ipykernel)",
   "language": "python",
   "name": "python3"
  },
  "language_info": {
   "codemirror_mode": {
    "name": "ipython",
    "version": 3
   },
   "file_extension": ".py",
   "mimetype": "text/x-python",
   "name": "python",
   "nbconvert_exporter": "python",
   "pygments_lexer": "ipython3",
   "version": "3.11.5"
  }
 },
 "nbformat": 4,
 "nbformat_minor": 5
}
