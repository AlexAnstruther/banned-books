{
 "cells": [
  {
   "cell_type": "markdown",
   "id": "e0df6f75",
   "metadata": {},
   "source": [
    "# Compas Analysis"
   ]
  },
  {
   "cell_type": "markdown",
   "id": "1b8b6856",
   "metadata": {},
   "source": [
    "## Importing Libraries"
   ]
  },
  {
   "cell_type": "code",
   "execution_count": 1,
   "id": "8c8f43aa",
   "metadata": {},
   "outputs": [
    {
     "data": {
      "text/plain": [
       "'Modules imported succesfully'"
      ]
     },
     "metadata": {},
     "output_type": "display_data"
    }
   ],
   "source": [
    "%run -i projtools/imports.py"
   ]
  },
  {
   "cell_type": "markdown",
   "id": "62d8b2ef",
   "metadata": {},
   "source": [
    "## Loading Data"
   ]
  },
  {
   "cell_type": "code",
   "execution_count": 54,
   "id": "ea87fef0",
   "metadata": {},
   "outputs": [
    {
     "data": {
      "text/plain": [
       "\"All tests passed. Your dataframes are: 'df', 'violent_df', 'cox_df' and 'cox_df_violent'\""
      ]
     },
     "metadata": {},
     "output_type": "display_data"
    }
   ],
   "source": [
    "%run -i projtools/data.py"
   ]
  },
  {
   "cell_type": "markdown",
   "id": "34fe2da0",
   "metadata": {},
   "source": [
    "## 'df' Descriptive Statistics"
   ]
  },
  {
   "cell_type": "code",
   "execution_count": 3,
   "id": "f58fe93a",
   "metadata": {},
   "outputs": [
    {
     "data": {
      "text/plain": [
       "0.20741201943031617"
      ]
     },
     "execution_count": 3,
     "metadata": {},
     "output_type": "execute_result"
    }
   ],
   "source": [
    "df['length_of_stay'] = (pd.to_numeric(pd.to_datetime(df['c_jail_out'])) - pd.to_numeric(pd.to_datetime(df['c_jail_in'])))\n",
    "df[['length_of_stay','decile_score']].corr().iloc[0,1]"
   ]
  },
  {
   "cell_type": "code",
   "execution_count": 4,
   "id": "2cf9c67d",
   "metadata": {},
   "outputs": [
    {
     "data": {
      "text/plain": [
       "age_cat\n",
       "25 - 45            3532\n",
       "Less than 25       1347\n",
       "Greater than 45    1293\n",
       "Name: count, dtype: int64"
      ]
     },
     "metadata": {},
     "output_type": "display_data"
    },
    {
     "data": {
      "text/plain": [
       "race\n",
       "African-American    3175\n",
       "Caucasian           2103\n",
       "Hispanic             509\n",
       "Other                343\n",
       "Asian                 31\n",
       "Native American       11\n",
       "Name: count, dtype: int64"
      ]
     },
     "metadata": {},
     "output_type": "display_data"
    },
    {
     "data": {
      "text/plain": [
       "race\n",
       "African-American    51.441996\n",
       "Caucasian           34.073234\n",
       "Hispanic             8.246922\n",
       "Other                5.557356\n",
       "Asian                0.502268\n",
       "Native American      0.178224\n",
       "Name: count, dtype: float64"
      ]
     },
     "metadata": {},
     "output_type": "display_data"
    },
    {
     "data": {
      "text/plain": [
       "score_text\n",
       "Low       3421\n",
       "Medium    1607\n",
       "High      1144\n",
       "Name: count, dtype: int64"
      ]
     },
     "metadata": {},
     "output_type": "display_data"
    },
    {
     "data": {
      "text/html": [
       "<div>\n",
       "<style scoped>\n",
       "    .dataframe tbody tr th:only-of-type {\n",
       "        vertical-align: middle;\n",
       "    }\n",
       "\n",
       "    .dataframe tbody tr th {\n",
       "        vertical-align: top;\n",
       "    }\n",
       "\n",
       "    .dataframe thead th {\n",
       "        text-align: right;\n",
       "    }\n",
       "</style>\n",
       "<table border=\"1\" class=\"dataframe\">\n",
       "  <thead>\n",
       "    <tr style=\"text-align: right;\">\n",
       "      <th>race</th>\n",
       "      <th>African-American</th>\n",
       "      <th>Asian</th>\n",
       "      <th>Caucasian</th>\n",
       "      <th>Hispanic</th>\n",
       "      <th>Native American</th>\n",
       "      <th>Other</th>\n",
       "    </tr>\n",
       "    <tr>\n",
       "      <th>sex</th>\n",
       "      <th></th>\n",
       "      <th></th>\n",
       "      <th></th>\n",
       "      <th></th>\n",
       "      <th></th>\n",
       "      <th></th>\n",
       "    </tr>\n",
       "  </thead>\n",
       "  <tbody>\n",
       "    <tr>\n",
       "      <th>Female</th>\n",
       "      <td>549</td>\n",
       "      <td>2</td>\n",
       "      <td>482</td>\n",
       "      <td>82</td>\n",
       "      <td>2</td>\n",
       "      <td>58</td>\n",
       "    </tr>\n",
       "    <tr>\n",
       "      <th>Male</th>\n",
       "      <td>2626</td>\n",
       "      <td>29</td>\n",
       "      <td>1621</td>\n",
       "      <td>427</td>\n",
       "      <td>9</td>\n",
       "      <td>285</td>\n",
       "    </tr>\n",
       "  </tbody>\n",
       "</table>\n",
       "</div>"
      ],
      "text/plain": [
       "race    African-American  Asian  Caucasian  Hispanic  Native American  Other\n",
       "sex                                                                         \n",
       "Female               549      2        482        82                2     58\n",
       "Male                2626     29       1621       427                9    285"
      ]
     },
     "metadata": {},
     "output_type": "display_data"
    },
    {
     "data": {
      "text/plain": [
       "sex\n",
       "Male      4997\n",
       "Female    1175\n",
       "Name: count, dtype: int64"
      ]
     },
     "metadata": {},
     "output_type": "display_data"
    },
    {
     "data": {
      "text/plain": [
       "sex\n",
       "Male      80.962411\n",
       "Female    19.037589\n",
       "Name: count, dtype: float64"
      ]
     },
     "metadata": {},
     "output_type": "display_data"
    },
    {
     "data": {
      "text/plain": [
       "2809"
      ]
     },
     "metadata": {},
     "output_type": "display_data"
    },
    {
     "data": {
      "text/plain": [
       "45.51198963058976"
      ]
     },
     "metadata": {},
     "output_type": "display_data"
    },
    {
     "data": {
      "text/html": [
       "<div>\n",
       "<style scoped>\n",
       "    .dataframe tbody tr th:only-of-type {\n",
       "        vertical-align: middle;\n",
       "    }\n",
       "\n",
       "    .dataframe tbody tr th {\n",
       "        vertical-align: top;\n",
       "    }\n",
       "\n",
       "    .dataframe thead th {\n",
       "        text-align: right;\n",
       "    }\n",
       "</style>\n",
       "<table border=\"1\" class=\"dataframe\">\n",
       "  <thead>\n",
       "    <tr style=\"text-align: right;\">\n",
       "      <th>race</th>\n",
       "      <th>African-American</th>\n",
       "      <th>Asian</th>\n",
       "      <th>Caucasian</th>\n",
       "      <th>Hispanic</th>\n",
       "      <th>Native American</th>\n",
       "      <th>Other</th>\n",
       "    </tr>\n",
       "    <tr>\n",
       "      <th>decile_score</th>\n",
       "      <th></th>\n",
       "      <th></th>\n",
       "      <th></th>\n",
       "      <th></th>\n",
       "      <th></th>\n",
       "      <th></th>\n",
       "    </tr>\n",
       "  </thead>\n",
       "  <tbody>\n",
       "    <tr>\n",
       "      <th>1</th>\n",
       "      <td>365</td>\n",
       "      <td>15</td>\n",
       "      <td>605</td>\n",
       "      <td>159</td>\n",
       "      <td>0</td>\n",
       "      <td>142</td>\n",
       "    </tr>\n",
       "    <tr>\n",
       "      <th>2</th>\n",
       "      <td>346</td>\n",
       "      <td>4</td>\n",
       "      <td>321</td>\n",
       "      <td>89</td>\n",
       "      <td>2</td>\n",
       "      <td>60</td>\n",
       "    </tr>\n",
       "    <tr>\n",
       "      <th>3</th>\n",
       "      <td>298</td>\n",
       "      <td>5</td>\n",
       "      <td>238</td>\n",
       "      <td>73</td>\n",
       "      <td>1</td>\n",
       "      <td>32</td>\n",
       "    </tr>\n",
       "    <tr>\n",
       "      <th>4</th>\n",
       "      <td>337</td>\n",
       "      <td>0</td>\n",
       "      <td>243</td>\n",
       "      <td>47</td>\n",
       "      <td>0</td>\n",
       "      <td>39</td>\n",
       "    </tr>\n",
       "    <tr>\n",
       "      <th>5</th>\n",
       "      <td>323</td>\n",
       "      <td>1</td>\n",
       "      <td>200</td>\n",
       "      <td>39</td>\n",
       "      <td>0</td>\n",
       "      <td>19</td>\n",
       "    </tr>\n",
       "    <tr>\n",
       "      <th>6</th>\n",
       "      <td>318</td>\n",
       "      <td>2</td>\n",
       "      <td>160</td>\n",
       "      <td>27</td>\n",
       "      <td>2</td>\n",
       "      <td>20</td>\n",
       "    </tr>\n",
       "    <tr>\n",
       "      <th>7</th>\n",
       "      <td>343</td>\n",
       "      <td>1</td>\n",
       "      <td>113</td>\n",
       "      <td>28</td>\n",
       "      <td>2</td>\n",
       "      <td>9</td>\n",
       "    </tr>\n",
       "    <tr>\n",
       "      <th>8</th>\n",
       "      <td>301</td>\n",
       "      <td>2</td>\n",
       "      <td>96</td>\n",
       "      <td>14</td>\n",
       "      <td>0</td>\n",
       "      <td>7</td>\n",
       "    </tr>\n",
       "    <tr>\n",
       "      <th>9</th>\n",
       "      <td>317</td>\n",
       "      <td>0</td>\n",
       "      <td>77</td>\n",
       "      <td>17</td>\n",
       "      <td>2</td>\n",
       "      <td>7</td>\n",
       "    </tr>\n",
       "    <tr>\n",
       "      <th>10</th>\n",
       "      <td>227</td>\n",
       "      <td>1</td>\n",
       "      <td>50</td>\n",
       "      <td>16</td>\n",
       "      <td>2</td>\n",
       "      <td>8</td>\n",
       "    </tr>\n",
       "  </tbody>\n",
       "</table>\n",
       "</div>"
      ],
      "text/plain": [
       "race          African-American  Asian  Caucasian  Hispanic  Native American  \\\n",
       "decile_score                                                                  \n",
       "1                          365     15        605       159                0   \n",
       "2                          346      4        321        89                2   \n",
       "3                          298      5        238        73                1   \n",
       "4                          337      0        243        47                0   \n",
       "5                          323      1        200        39                0   \n",
       "6                          318      2        160        27                2   \n",
       "7                          343      1        113        28                2   \n",
       "8                          301      2         96        14                0   \n",
       "9                          317      0         77        17                2   \n",
       "10                         227      1         50        16                2   \n",
       "\n",
       "race          Other  \n",
       "decile_score         \n",
       "1               142  \n",
       "2                60  \n",
       "3                32  \n",
       "4                39  \n",
       "5                19  \n",
       "6                20  \n",
       "7                 9  \n",
       "8                 7  \n",
       "9                 7  \n",
       "10                8  "
      ]
     },
     "metadata": {},
     "output_type": "display_data"
    }
   ],
   "source": [
    "display(df['age_cat'].value_counts(),\n",
    "    df['race'].value_counts(),\n",
    "    df['race'].value_counts().apply(lambda x : x / len(df) * 100),\n",
    "    df['score_text'].value_counts(),\n",
    "    pd.crosstab(df['sex'],df['race']),\n",
    "    df['sex'].value_counts(),\n",
    "    df['sex'].value_counts().apply(lambda x : x / len(df) * 100),\n",
    "    len(df[df['two_year_recid'] == 1]),\n",
    "    len(df[df['two_year_recid'] == 1]) / len(df) * 100,\n",
    "    pd.crosstab(df['decile_score'],df['race']))"
   ]
  },
  {
   "cell_type": "code",
   "execution_count": 5,
   "id": "b5478bdb-6afa-4138-ae61-58c22ade7dff",
   "metadata": {
    "tags": []
   },
   "outputs": [],
   "source": [
    "#using groupby to create a table which can be turned into a barchart\n",
    "df['Index'] = df.index\n",
    "african_american_barchart = df[df['race'] == 'African-American'].groupby(['decile_score'])['Index'].unique().apply(len)\n",
    "caucasian_barchart = df[df['race'] == 'Caucasian'].groupby(['decile_score'])['Index'].unique().apply(len)\n",
    "df = df.drop(['Index'],axis=1)"
   ]
  },
  {
   "cell_type": "code",
   "execution_count": 6,
   "id": "50125e12",
   "metadata": {},
   "outputs": [
    {
     "data": {
      "image/png": "[encoded data removed]",
      "text/plain": [
       "<Figure size 1200x400 with 2 Axes>"
      ]
     },
     "metadata": {},
     "output_type": "display_data"
    }
   ],
   "source": [
    "fig, (ax1, ax2) = plt.subplots(1, 2, figsize=(12,4))\n",
    "\n",
    "#format for barchart_setting(axes1,axes2,upper_ylim)\n",
    "graph_formats.barchart_setting(ax1,ax2,620)\n",
    "\n",
    "ax1.bar(african_american_barchart.index,african_american_barchart.values,color='dimgrey',zorder=2)\n",
    "ax1.set_title(\"Black Defendent's Decile Scores\")\n",
    "ax2.bar(caucasian_barchart.index,caucasian_barchart.values,color='dimgrey',zorder=2)\n",
    "ax2.set_title(\"White Defendent's Decile Scores\");"
   ]
  },
  {
   "cell_type": "code",
   "execution_count": 7,
   "id": "a7fbfc7b-da73-4ddd-a2f9-a8371261a368",
   "metadata": {
    "tags": []
   },
   "outputs": [],
   "source": [
    "df['Index'] = df.index\n",
    "african_american_barchart = df[df['race'] == 'African-American'].groupby(['decile_score'])['Index'].unique().apply(len)\n",
    "caucasian_barchart = df[df['race'] == 'Caucasian'].groupby(['decile_score'])['Index'].unique().apply(len)"
   ]
  },
  {
   "cell_type": "code",
   "execution_count": 8,
   "id": "9b442f26-3aa7-4acd-a128-12ff2c06d12f",
   "metadata": {
    "tags": []
   },
   "outputs": [],
   "source": [
    "df['Index'] = df.index\n"
   ]
  },
  {
   "cell_type": "code",
   "execution_count": 9,
   "id": "67a6946e",
   "metadata": {},
   "outputs": [
    {
     "name": "stdout",
     "output_type": "stream",
     "text": [
      "Optimization terminated successfully.\n",
      "         Current function value: 0.499708\n",
      "         Iterations 6\n"
     ]
    },
    {
     "data": {
      "text/html": [
       "<table class=\"simpletable\">\n",
       "<caption>Logit Regression Results</caption>\n",
       "<tr>\n",
       "  <th>Dep. Variable:</th>   <td>score_text_low_high_HighScore</td> <th>  No. Observations:  </th>  <td>  6172</td> \n",
       "</tr>\n",
       "<tr>\n",
       "  <th>Model:</th>                       <td>Logit</td>             <th>  Df Residuals:      </th>  <td>  6160</td> \n",
       "</tr>\n",
       "<tr>\n",
       "  <th>Method:</th>                       <td>MLE</td>              <th>  Df Model:          </th>  <td>    11</td> \n",
       "</tr>\n",
       "<tr>\n",
       "  <th>Date:</th>                  <td>Tue, 19 Dec 2023</td>        <th>  Pseudo R-squ.:     </th>  <td>0.2729</td> \n",
       "</tr>\n",
       "<tr>\n",
       "  <th>Time:</th>                      <td>07:31:05</td>            <th>  Log-Likelihood:    </th> <td> -3084.2</td>\n",
       "</tr>\n",
       "<tr>\n",
       "  <th>converged:</th>                   <td>True</td>              <th>  LL-Null:           </th> <td> -4241.7</td>\n",
       "</tr>\n",
       "<tr>\n",
       "  <th>Covariance Type:</th>           <td>nonrobust</td>           <th>  LLR p-value:       </th>  <td> 0.000</td> \n",
       "</tr>\n",
       "</table>\n",
       "<table class=\"simpletable\">\n",
       "<tr>\n",
       "             <td></td>                <th>coef</th>     <th>std err</th>      <th>z</th>      <th>P>|z|</th>  <th>[0.025</th>    <th>0.975]</th>  \n",
       "</tr>\n",
       "<tr>\n",
       "  <th>Intercept</th>               <td>   -1.5255</td> <td>    0.079</td> <td>  -19.430</td> <td> 0.000</td> <td>   -1.679</td> <td>   -1.372</td>\n",
       "</tr>\n",
       "<tr>\n",
       "  <th>sex_Female</th>              <td>    0.2213</td> <td>    0.080</td> <td>    2.783</td> <td> 0.005</td> <td>    0.065</td> <td>    0.377</td>\n",
       "</tr>\n",
       "<tr>\n",
       "  <th>age_cat_Less_than_25</th>    <td>    1.3084</td> <td>    0.076</td> <td>   17.232</td> <td> 0.000</td> <td>    1.160</td> <td>    1.457</td>\n",
       "</tr>\n",
       "<tr>\n",
       "  <th>age_cat_Greater_than_45</th> <td>   -1.3556</td> <td>    0.099</td> <td>  -13.682</td> <td> 0.000</td> <td>   -1.550</td> <td>   -1.161</td>\n",
       "</tr>\n",
       "<tr>\n",
       "  <th>race_African_American</th>   <td>    0.4772</td> <td>    0.069</td> <td>    6.881</td> <td> 0.000</td> <td>    0.341</td> <td>    0.613</td>\n",
       "</tr>\n",
       "<tr>\n",
       "  <th>race_Asian</th>              <td>   -0.2544</td> <td>    0.478</td> <td>   -0.532</td> <td> 0.595</td> <td>   -1.192</td> <td>    0.683</td>\n",
       "</tr>\n",
       "<tr>\n",
       "  <th>race_Hispanic</th>           <td>   -0.4284</td> <td>    0.128</td> <td>   -3.344</td> <td> 0.001</td> <td>   -0.680</td> <td>   -0.177</td>\n",
       "</tr>\n",
       "<tr>\n",
       "  <th>race_Native_American</th>    <td>    1.3942</td> <td>    0.766</td> <td>    1.820</td> <td> 0.069</td> <td>   -0.107</td> <td>    2.896</td>\n",
       "</tr>\n",
       "<tr>\n",
       "  <th>race_Other</th>              <td>   -0.8263</td> <td>    0.162</td> <td>   -5.098</td> <td> 0.000</td> <td>   -1.144</td> <td>   -0.509</td>\n",
       "</tr>\n",
       "<tr>\n",
       "  <th>priors_count</th>            <td>    0.2689</td> <td>    0.011</td> <td>   24.221</td> <td> 0.000</td> <td>    0.247</td> <td>    0.291</td>\n",
       "</tr>\n",
       "<tr>\n",
       "  <th>c_charge_degree_M</th>       <td>   -0.3112</td> <td>    0.067</td> <td>   -4.677</td> <td> 0.000</td> <td>   -0.442</td> <td>   -0.181</td>\n",
       "</tr>\n",
       "<tr>\n",
       "  <th>two_year_recid</th>          <td>    0.6859</td> <td>    0.064</td> <td>   10.713</td> <td> 0.000</td> <td>    0.560</td> <td>    0.811</td>\n",
       "</tr>\n",
       "</table>"
      ],
      "text/latex": [
       "\\begin{center}\n",
       "\\begin{tabular}{lclc}\n",
       "\\toprule\n",
       "\\textbf{Dep. Variable:}              & score\\_text\\_low\\_high\\_HighScore & \\textbf{  No. Observations:  } &     6172    \\\\\n",
       "\\textbf{Model:}                      &               Logit               & \\textbf{  Df Residuals:      } &     6160    \\\\\n",
       "\\textbf{Method:}                     &                MLE                & \\textbf{  Df Model:          } &       11    \\\\\n",
       "\\textbf{Date:}                       &          Tue, 19 Dec 2023         & \\textbf{  Pseudo R-squ.:     } &   0.2729    \\\\\n",
       "\\textbf{Time:}                       &              07:31:05             & \\textbf{  Log-Likelihood:    } &   -3084.2   \\\\\n",
       "\\textbf{converged:}                  &                True               & \\textbf{  LL-Null:           } &   -4241.7   \\\\\n",
       "\\textbf{Covariance Type:}            &             nonrobust             & \\textbf{  LLR p-value:       } &    0.000    \\\\\n",
       "\\bottomrule\n",
       "\\end{tabular}\n",
       "\\begin{tabular}{lcccccc}\n",
       "                                     & \\textbf{coef} & \\textbf{std err} & \\textbf{z} & \\textbf{P$> |$z$|$} & \\textbf{[0.025} & \\textbf{0.975]}  \\\\\n",
       "\\midrule\n",
       "\\textbf{Intercept}                   &      -1.5255  &        0.079     &   -19.430  &         0.000        &       -1.679    &       -1.372     \\\\\n",
       "\\textbf{sex\\_Female}                 &       0.2213  &        0.080     &     2.783  &         0.005        &        0.065    &        0.377     \\\\\n",
       "\\textbf{age\\_cat\\_Less\\_than\\_25}    &       1.3084  &        0.076     &    17.232  &         0.000        &        1.160    &        1.457     \\\\\n",
       "\\textbf{age\\_cat\\_Greater\\_than\\_45} &      -1.3556  &        0.099     &   -13.682  &         0.000        &       -1.550    &       -1.161     \\\\\n",
       "\\textbf{race\\_African\\_American}     &       0.4772  &        0.069     &     6.881  &         0.000        &        0.341    &        0.613     \\\\\n",
       "\\textbf{race\\_Asian}                 &      -0.2544  &        0.478     &    -0.532  &         0.595        &       -1.192    &        0.683     \\\\\n",
       "\\textbf{race\\_Hispanic}              &      -0.4284  &        0.128     &    -3.344  &         0.001        &       -0.680    &       -0.177     \\\\\n",
       "\\textbf{race\\_Native\\_American}      &       1.3942  &        0.766     &     1.820  &         0.069        &       -0.107    &        2.896     \\\\\n",
       "\\textbf{race\\_Other}                 &      -0.8263  &        0.162     &    -5.098  &         0.000        &       -1.144    &       -0.509     \\\\\n",
       "\\textbf{priors\\_count}               &       0.2689  &        0.011     &    24.221  &         0.000        &        0.247    &        0.291     \\\\\n",
       "\\textbf{c\\_charge\\_degree\\_M}        &      -0.3112  &        0.067     &    -4.677  &         0.000        &       -0.442    &       -0.181     \\\\\n",
       "\\textbf{two\\_year\\_recid}            &       0.6859  &        0.064     &    10.713  &         0.000        &        0.560    &        0.811     \\\\\n",
       "\\bottomrule\n",
       "\\end{tabular}\n",
       "%\\caption{Logit Regression Results}\n",
       "\\end{center}"
      ],
      "text/plain": [
       "<class 'statsmodels.iolib.summary.Summary'>\n",
       "\"\"\"\n",
       "                                 Logit Regression Results                                \n",
       "=========================================================================================\n",
       "Dep. Variable:     score_text_low_high_HighScore   No. Observations:                 6172\n",
       "Model:                                     Logit   Df Residuals:                     6160\n",
       "Method:                                      MLE   Df Model:                           11\n",
       "Date:                           Tue, 19 Dec 2023   Pseudo R-squ.:                  0.2729\n",
       "Time:                                   07:31:05   Log-Likelihood:                -3084.2\n",
       "converged:                                  True   LL-Null:                       -4241.7\n",
       "Covariance Type:                       nonrobust   LLR p-value:                     0.000\n",
       "===========================================================================================\n",
       "                              coef    std err          z      P>|z|      [0.025      0.975]\n",
       "-------------------------------------------------------------------------------------------\n",
       "Intercept                  -1.5255      0.079    -19.430      0.000      -1.679      -1.372\n",
       "sex_Female                  0.2213      0.080      2.783      0.005       0.065       0.377\n",
       "age_cat_Less_than_25        1.3084      0.076     17.232      0.000       1.160       1.457\n",
       "age_cat_Greater_than_45    -1.3556      0.099    -13.682      0.000      -1.550      -1.161\n",
       "race_African_American       0.4772      0.069      6.881      0.000       0.341       0.613\n",
       "race_Asian                 -0.2544      0.478     -0.532      0.595      -1.192       0.683\n",
       "race_Hispanic              -0.4284      0.128     -3.344      0.001      -0.680      -0.177\n",
       "race_Native_American        1.3942      0.766      1.820      0.069      -0.107       2.896\n",
       "race_Other                 -0.8263      0.162     -5.098      0.000      -1.144      -0.509\n",
       "priors_count                0.2689      0.011     24.221      0.000       0.247       0.291\n",
       "c_charge_degree_M          -0.3112      0.067     -4.677      0.000      -0.442      -0.181\n",
       "two_year_recid              0.6859      0.064     10.713      0.000       0.560       0.811\n",
       "===========================================================================================\n",
       "\"\"\""
      ]
     },
     "metadata": {},
     "output_type": "display_data"
    }
   ],
   "source": [
    "model = smf.logit(formula='score_text_low_high_HighScore ~ sex_Female + age_cat_Less_than_25 + age_cat_Greater_than_45 + race_African_American + race_Asian + race_Hispanic + race_Native_American + race_Other + priors_count + c_charge_degree_M + two_year_recid', data=df).fit()\n",
    "display(model.summary())"
   ]
  },
  {
   "cell_type": "markdown",
   "id": "46d14a92",
   "metadata": {},
   "source": [
    "## DO NOT FORGET TO DO LOG ODDS HERE"
   ]
  },
  {
   "cell_type": "code",
   "execution_count": 10,
   "id": "69d5a721-278b-41b9-aeaa-3e2f55f1f870",
   "metadata": {
    "tags": []
   },
   "outputs": [
    {
     "data": {
      "text/plain": [
       "0.7754939739267914"
      ]
     },
     "execution_count": 10,
     "metadata": {},
     "output_type": "execute_result"
    }
   ],
   "source": [
    "intercept = model.params.Intercept\n",
    "\n",
    "controlled_p = np.exp(model.params.Intercept) / (1 + np.exp(model.params.Intercept))\n",
    "black_p = np.exp(model.params.race_African_American) / (1 + np.exp(model.params.race_African_American))\n",
    "increased_likelihood = black_p / (black_p + controlled_p)\n",
    "increased_likelihood"
   ]
  },
  {
   "cell_type": "markdown",
   "id": "32b25697-7ae7-4448-8147-5ef39dd9c722",
   "metadata": {},
   "source": [
    "## Calculating Odds Ratios\n",
    "Why did they do this so differently?\n",
    "Does it matter - or can we back up what we are saying here?"
   ]
  },
  {
   "cell_type": "code",
   "execution_count": 11,
   "id": "57cb4c05-e695-4465-997d-3be0efa42407",
   "metadata": {
    "tags": []
   },
   "outputs": [
    {
     "data": {
      "text/plain": [
       "'Using an odds ratio, black defendants are 740% more likely to receive a high score than white defendants.'"
      ]
     },
     "metadata": {},
     "output_type": "display_data"
    }
   ],
   "source": [
    "#converting log-odds to odds\n",
    "odds_baselevel = np.exp(model.params.Intercept)\n",
    "odds_black = np.exp(model.params.race_African_American)\n",
    "\n",
    "#calculating an odds ratio\n",
    "display(f\"Using an odds ratio, black defendants are \" + str(odds_black/odds_baselevel * 100)[:3] + \"% more likely to receive a high score than white defendants.\")"
   ]
  },
  {
   "cell_type": "code",
   "execution_count": 12,
   "id": "6ce0307a-cd18-4230-82fa-62fe2b1ed093",
   "metadata": {
    "tags": []
   },
   "outputs": [
    {
     "data": {
      "text/plain": [
       "'Using an odds ratio, female defendants are 573 % more likely to receive a high score than male defendants.'"
      ]
     },
     "metadata": {},
     "output_type": "display_data"
    }
   ],
   "source": [
    "odds_female = np.exp(model.params.sex_Female)\n",
    "display(f\"Using an odds ratio, female defendants are \" + str(odds_female/odds_baselevel * 100)[:3] + \" % more likely to receive a high score than male defendants.\")"
   ]
  },
  {
   "cell_type": "code",
   "execution_count": 13,
   "id": "45632a8b-3615-4b0c-9ad0-49ee4aded804",
   "metadata": {
    "tags": []
   },
   "outputs": [
    {
     "data": {
      "text/plain": [
       "'Using an odds ratio, defendants under 25 are 361% more likely to receive a high score than defendants between 25 and 45.'"
      ]
     },
     "metadata": {},
     "output_type": "display_data"
    },
    {
     "data": {
      "text/plain": [
       "'Using an odds ratio, defendants over 45 are 94% more likely to receive a high score than defendants between 25 and 45.'"
      ]
     },
     "metadata": {},
     "output_type": "display_data"
    }
   ],
   "source": [
    "odds_under25 = np.exp(model.params.age_cat_Less_than_25) / (1 + np.exp(model.params.age_cat_Less_than_25))\n",
    "odds_over45 = np.exp(model.params.age_cat_Greater_than_45) / (1 + np.exp(model.params.age_cat_Greater_than_45))\n",
    "display(f\"Using an odds ratio, defendants under 25 are \" + str(odds_under25/odds_baselevel * 100)[:3] + \"% more likely to receive a high score than defendants between 25 and 45.\")\n",
    "display(f\"Using an odds ratio, defendants over 45 are \" + str(odds_over45/odds_baselevel * 100)[:2] + \"% more likely to receive a high score than defendants between 25 and 45.\")\n"
   ]
  },
  {
   "cell_type": "markdown",
   "id": "d127f186",
   "metadata": {},
   "source": [
    "## 'violent_df' Descriptive Statistics"
   ]
  },
  {
   "cell_type": "code",
   "execution_count": 14,
   "id": "637471b3",
   "metadata": {},
   "outputs": [
    {
     "data": {
      "text/plain": [
       "age_cat\n",
       "25 - 45            2300\n",
       "Greater than 45     954\n",
       "Less than 25        766\n",
       "Name: count, dtype: int64"
      ]
     },
     "metadata": {},
     "output_type": "display_data"
    },
    {
     "data": {
      "text/plain": [
       "race\n",
       "African-American    1918\n",
       "Caucasian           1459\n",
       "Hispanic             355\n",
       "Other                255\n",
       "Asian                 26\n",
       "Native American        7\n",
       "Name: count, dtype: int64"
      ]
     },
     "metadata": {},
     "output_type": "display_data"
    },
    {
     "data": {
      "text/plain": [
       "v_score_text\n",
       "Low       2913\n",
       "Medium     828\n",
       "High       279\n",
       "Name: count, dtype: int64"
      ]
     },
     "metadata": {},
     "output_type": "display_data"
    },
    {
     "data": {
      "text/plain": [
       "652"
      ]
     },
     "metadata": {},
     "output_type": "display_data"
    },
    {
     "data": {
      "text/plain": [
       "16.218905472636816"
      ]
     },
     "metadata": {},
     "output_type": "display_data"
    }
   ],
   "source": [
    "display(violent_df['age_cat'].value_counts(),\n",
    "    violent_df['race'].value_counts(),\n",
    "    violent_df['v_score_text'].value_counts(),\n",
    "    len(violent_df[violent_df['two_year_recid'] == 1]),\n",
    "    len(violent_df[violent_df['two_year_recid'] == 1]) / len(violent_df) * 100)"
   ]
  },
  {
   "cell_type": "code",
   "execution_count": 15,
   "id": "b25107f3-6847-4dc0-a790-c765fe14788d",
   "metadata": {
    "tags": []
   },
   "outputs": [],
   "source": [
    "violent_df['Index'] = violent_df.index\n",
    "v_african_american_barchart = violent_df[violent_df['race'] == 'African-American'].groupby(['v_decile_score'])['Index'].unique().apply(len)\n",
    "v_caucasian_barchart = violent_df[violent_df['race'] == 'Caucasian'].groupby(['v_decile_score'])['Index'].unique().apply(len)\n",
    "violent_df = violent_df.drop(['Index'],axis=1)"
   ]
  },
  {
   "cell_type": "code",
   "execution_count": 16,
   "id": "071815c7",
   "metadata": {},
   "outputs": [
    {
     "data": {
      "image/png": "[encoded data removed]",
      "text/plain": [
       "<Figure size 1200x400 with 2 Axes>"
      ]
     },
     "metadata": {},
     "output_type": "display_data"
    }
   ],
   "source": [
    "fig, (ax1, ax2) = plt.subplots(1, 2, figsize=(12,4))\n",
    "\n",
    "graph_formats.barchart_setting(ax1,ax2,700)\n",
    "\n",
    "ax1.bar(v_african_american_barchart.index,v_african_american_barchart.values,color='dimgrey',zorder=2)\n",
    "ax1.set_title(\"Black Defendent's Violent Decile Scores\")\n",
    "ax2.bar(v_caucasian_barchart.index,v_caucasian_barchart.values,color='dimgrey',zorder=2)\n",
    "ax2.set_title(\"White Defendent's Violent Decile Scores\");"
   ]
  },
  {
   "cell_type": "code",
   "execution_count": 17,
   "id": "b975244e-7077-4c09-a55a-d73b6af6035d",
   "metadata": {
    "tags": []
   },
   "outputs": [
    {
     "data": {
      "text/plain": [
       "Index(['age', 'c_charge_degree', 'race', 'age_cat', 'v_score_text', 'sex',\n",
       "       'priors_count', 'days_b_screening_arrest', 'v_decile_score', 'is_recid',\n",
       "       'two_year_recid', 'v_score_text_low/high', 'c_charge_degree_M',\n",
       "       'age_cat_Greater_than_45', 'age_cat_Less_than_25',\n",
       "       'race_African_American', 'race_Asian', 'race_Hispanic',\n",
       "       'race_Native_American', 'race_Other', 'sex_Female',\n",
       "       'v_score_text_low_high_HighScore'],\n",
       "      dtype='object')"
      ]
     },
     "execution_count": 17,
     "metadata": {},
     "output_type": "execute_result"
    }
   ],
   "source": [
    "violent_df.columns"
   ]
  },
  {
   "cell_type": "code",
   "execution_count": 18,
   "id": "e0d31198",
   "metadata": {},
   "outputs": [
    {
     "name": "stdout",
     "output_type": "stream",
     "text": [
      "Optimization terminated successfully.\n",
      "         Current function value: 0.372983\n",
      "         Iterations 7\n",
      "                                  Logit Regression Results                                 \n",
      "===========================================================================================\n",
      "Dep. Variable:     v_score_text_low_high_HighScore   No. Observations:                 4020\n",
      "Model:                                       Logit   Df Residuals:                     4008\n",
      "Method:                                        MLE   Df Model:                           11\n",
      "Date:                             Tue, 19 Dec 2023   Pseudo R-squ.:                  0.3662\n",
      "Time:                                     07:31:05   Log-Likelihood:                -1499.4\n",
      "converged:                                    True   LL-Null:                       -2365.9\n",
      "Covariance Type:                         nonrobust   LLR p-value:                     0.000\n",
      "===========================================================================================\n",
      "                              coef    std err          z      P>|z|      [0.025      0.975]\n",
      "-------------------------------------------------------------------------------------------\n",
      "Intercept                  -2.2427      0.113    -19.802      0.000      -2.465      -2.021\n",
      "sex_Female                 -0.7289      0.127     -5.755      0.000      -0.977      -0.481\n",
      "age_cat_Less_than_25        3.1459      0.115     27.259      0.000       2.920       3.372\n",
      "age_cat_Greater_than_45    -1.7421      0.184     -9.460      0.000      -2.103      -1.381\n",
      "race_African_American       0.6589      0.108      6.093      0.000       0.447       0.871\n",
      "race_Asian                 -0.9852      0.705     -1.397      0.162      -2.368       0.397\n",
      "race_Hispanic              -0.0642      0.191     -0.335      0.737      -0.439       0.311\n",
      "race_Native_American        0.4479      1.035      0.433      0.665      -1.582       2.477\n",
      "race_Other                 -0.2054      0.225     -0.914      0.360      -0.646       0.235\n",
      "priors_count                0.1376      0.012     11.854      0.000       0.115       0.160\n",
      "c_charge_degree_M          -0.1637      0.098     -1.669      0.095      -0.356       0.029\n",
      "two_year_recid              0.9345      0.115      8.107      0.000       0.709       1.160\n",
      "===========================================================================================\n"
     ]
    }
   ],
   "source": [
    "model = smf.logit(formula='v_score_text_low_high_HighScore ~ sex_Female + age_cat_Less_than_25 + age_cat_Greater_than_45 + race_African_American + race_Asian + race_Hispanic + race_Native_American + race_Other + priors_count + c_charge_degree_M + two_year_recid', data=violent_df).fit()\n",
    "print(model.summary())"
   ]
  },
  {
   "cell_type": "markdown",
   "id": "feb637a8",
   "metadata": {},
   "source": [
    "## 'cox_df' Descriptive Statistics"
   ]
  },
  {
   "cell_type": "code",
   "execution_count": 19,
   "id": "18681270",
   "metadata": {},
   "outputs": [
    {
     "data": {
      "text/plain": [
       "score_text\n",
       "Low       5751\n",
       "Medium    2611\n",
       "High      1952\n",
       "Name: count, dtype: int64"
      ]
     },
     "metadata": {},
     "output_type": "display_data"
    },
    {
     "data": {
      "text/plain": [
       "race\n",
       "African-American    5147\n",
       "Caucasian           3569\n",
       "Hispanic             944\n",
       "Other                571\n",
       "Asian                 51\n",
       "Native American       32\n",
       "Name: count, dtype: int64"
      ]
     },
     "metadata": {},
     "output_type": "display_data"
    }
   ],
   "source": [
    "display(cox_df['score_text'].value_counts(),\n",
    "    cox_df['race'].value_counts())"
   ]
  },
  {
   "cell_type": "markdown",
   "id": "498c93ee",
   "metadata": {},
   "source": [
    "## Predictive Accuracy of COMPAS"
   ]
  },
  {
   "cell_type": "code",
   "execution_count": 20,
   "id": "d4ec4a53",
   "metadata": {},
   "outputs": [
    {
     "data": {
      "text/plain": [
       "'HighMedium vs Low: 2.0266205404250206'"
      ]
     },
     "metadata": {},
     "output_type": "display_data"
    },
    {
     "data": {
      "text/plain": [
       "'High vs Low: 2.3033191633053325'"
      ]
     },
     "metadata": {},
     "output_type": "display_data"
    },
    {
     "data": {
      "text/plain": [
       "'Text concordance: 67.42493175614194'"
      ]
     },
     "metadata": {},
     "output_type": "display_data"
    }
   ],
   "source": [
    "from itertools import combinations\n",
    "recid_by_size = cox_df.groupby('score_text')['is_recid'].agg(['sum','size'])\n",
    "recid_by_size.loc['HighMedium'] = recid_by_size.loc['High'] + recid_by_size.loc['Medium']\n",
    "recid_by_size['percent'] = recid_by_size['sum']/recid_by_size['size']\n",
    "display(f\"HighMedium vs Low: {recid_by_size.loc['HighMedium','percent']/recid_by_size.loc['Low','percent']}\",\n",
    "    f\"High vs Low: {recid_by_size.loc['High','percent']/recid_by_size.loc['Low','percent']}\",\n",
    "    f\"Text concordance: {conc.concordance_text_score(cox_df,['is_recid','score_text'],100)}\")"
   ]
  },
  {
   "cell_type": "code",
   "execution_count": 21,
   "id": "daf54cea",
   "metadata": {},
   "outputs": [
    {
     "data": {
      "text/plain": [
       "'Decile concordance: 67.27019498607241'"
      ]
     },
     "metadata": {},
     "output_type": "display_data"
    }
   ],
   "source": [
    "display(f\"Decile concordance: {conc.concordance_decile_score(cox_df,['is_recid','decile_score'],100)}\")"
   ]
  },
  {
   "cell_type": "code",
   "execution_count": 22,
   "id": "a8bc5428",
   "metadata": {},
   "outputs": [
    {
     "data": {
      "text/plain": [
       "'High vs Low (African-American): 2.001258311289054'"
      ]
     },
     "metadata": {},
     "output_type": "display_data"
    },
    {
     "data": {
      "text/plain": [
       "'High vs Low (Caucasian): 2.4018740554156173'"
      ]
     },
     "metadata": {},
     "output_type": "display_data"
    }
   ],
   "source": [
    "recid_by_size_black = cox_df[cox_df['race'] == 'African-American'].groupby('score_text')['is_recid'].agg(['sum','size'])\n",
    "recid_by_size_black['percent'] = recid_by_size_black['sum']/recid_by_size_black['size']\n",
    "recid_by_size_white = cox_df[cox_df['race'] == 'Caucasian'].groupby('score_text')['is_recid'].agg(['sum','size'])\n",
    "recid_by_size_white['percent'] = recid_by_size_white['sum']/recid_by_size_white['size']\n",
    "display(f\"High vs Low (African-American): {recid_by_size_black.loc['High','percent']/recid_by_size_black.loc['Low','percent']}\",\n",
    "        f\"High vs Low (Caucasian): {recid_by_size_white.loc['High','percent']/recid_by_size_white.loc['Low','percent']}\")"
   ]
  },
  {
   "cell_type": "code",
   "execution_count": 32,
   "id": "4a483458-1ca2-41e3-b38f-76933dd87efd",
   "metadata": {},
   "outputs": [
    {
     "data": {
      "image/png": "[encoded data removed]",
      "text/plain": [
       "<Figure size 640x480 with 1 Axes>"
      ]
     },
     "metadata": {},
     "output_type": "display_data"
    }
   ],
   "source": [
    "for score, color in zip(['Low', 'Medium', 'High'], ['green', 'orange', 'red']):\n",
    "    subset = cox_df[(cox_df['is_recid'] == 1) & (cox_df['score_text'] == score)]\n",
    "    total_count = len(cox_df[cox_df['score_text'] == score])\n",
    "    value_counts = subset['duration'].value_counts().sort_index().cumsum()\n",
    "    proportion = (total_count - value_counts) / total_count\n",
    "    proportion.plot(color=color,\n",
    "                    label=score,\n",
    "                    title='Entire Sample',\n",
    "                    ylim=[0,1],\n",
    "                    ylabel='Proportion Not Recidivised',\n",
    "                    xlabel='Days',\n",
    "                    legend=True,\n",
    "                    grid=True)"
   ]
  },
  {
   "cell_type": "code",
   "execution_count": 55,
   "id": "e6efcb72",
   "metadata": {},
   "outputs": [
    {
     "data": {
      "image/png": "[encoded data removed]",
      "text/plain": [
       "<Figure size 1200x400 with 2 Axes>"
      ]
     },
     "metadata": {},
     "output_type": "display_data"
    }
   ],
   "source": [
    "fig, (ax1, ax2) = plt.subplots(1, 2, figsize=(12, 4))\n",
    "fig.suptitle('Non-violent recidivism by race', fontsize=16)\n",
    "cox_df_black = cox_df[cox_df['race'] == 'African-American']\n",
    "cox_df_white = cox_df[cox_df['race'] == 'Caucasian']\n",
    "\n",
    "for score, color in zip(['Low', 'Medium', 'High'], ['green', 'orange', 'red']):\n",
    "    subset = cox_df_white[(cox_df_white['is_recid'] == 1) & (cox_df_white['score_text'] == score)]\n",
    "    total_count = len(cox_df_white[cox_df_white['score_text'] == score])\n",
    "    value_counts = subset['duration'].value_counts().sort_index().cumsum()\n",
    "    proportion = (total_count - value_counts) / total_count\n",
    "    proportion.plot(ax=ax1, color=color, label=score, title='White')\n",
    "\n",
    "ax1.set_ylim([0, 1])\n",
    "ax1.set_ylabel('Proportion Not Recidivised')\n",
    "ax1.set_xlabel('Days')\n",
    "ax1.legend()\n",
    "ax1.grid()\n",
    "\n",
    "for score, color in zip(['Low', 'Medium', 'High'], ['green', 'orange', 'red']):\n",
    "    subset = cox_df_black[(cox_df_black['is_recid'] == 1) & (cox_df_black['score_text'] == score)]\n",
    "    total_count = len(cox_df_black[cox_df_black['score_text'] == score])\n",
    "    value_counts = subset['duration'].value_counts().sort_index().cumsum()\n",
    "    proportion = (total_count - value_counts) / total_count\n",
    "    proportion.plot(ax=ax2, color=color, label=score, title='Black')\n",
    "\n",
    "ax2.set_ylim([0, 1])\n",
    "ax2.set_ylabel('Proportion Not Recidivised')\n",
    "ax2.set_xlabel('Days')\n",
    "ax2.legend(loc='lower left')\n",
    "ax2.grid()"
   ]
  },
  {
   "cell_type": "code",
   "execution_count": 56,
   "id": "f3a89ddb-c491-462d-b0d7-f024c9185466",
   "metadata": {},
   "outputs": [
    {
     "data": {
      "image/png": "[encoded data removed]",
      "text/plain": [
       "<Figure size 1200x400 with 2 Axes>"
      ]
     },
     "metadata": {},
     "output_type": "display_data"
    }
   ],
   "source": [
    "fig, (ax1, ax2) = plt.subplots(1, 2, figsize=(12, 4))\n",
    "fig.suptitle('Violent recidivism by race', fontsize=16)\n",
    "cox_df_violent_black = cox_df_violent[cox_df_violent['race'] == 'African-American']\n",
    "cox_df_violent_white = cox_df_violent[cox_df_violent['race'] == 'Caucasian']\n",
    "cox_df_violent['duration']\n",
    "\n",
    "for score, color in zip(['Low', 'Medium', 'High'], ['green', 'orange', 'red']):\n",
    "    subset = cox_df_violent_white[(cox_df_violent_white['is_recid'] == 1) & (cox_df_violent_white['score_text'] == score)]\n",
    "    total_count = len(cox_df_violent_white[cox_df_violent_white['score_text'] == score])\n",
    "    value_counts = subset['duration'].value_counts().sort_index().cumsum()\n",
    "    proportion = (total_count - value_counts) / total_count\n",
    "    proportion.plot(ax=ax1, color=color, label=score, title='White')\n",
    "\n",
    "ax1.set_ylim([0, 1])\n",
    "ax1.set_ylabel('Proportion Not Recidivised')\n",
    "ax1.set_xlabel('Days')\n",
    "ax1.legend()\n",
    "ax1.grid()\n",
    "\n",
    "for score, color in zip(['Low', 'Medium', 'High'], ['green', 'orange', 'red']):\n",
    "    subset = cox_df_violent_black[(cox_df_violent_black['is_recid'] == 1) & (cox_df_violent_black['score_text'] == score)]\n",
    "    total_count = len(cox_df_violent_black[cox_df_violent_black['score_text'] == score])\n",
    "    value_counts = subset['duration'].value_counts().sort_index().cumsum()\n",
    "    proportion = (total_count - value_counts) / total_count\n",
    "    proportion.plot(ax=ax2, color=color, label=score, title='Black')\n",
    "\n",
    "ax2.set_ylim([0, 1])\n",
    "ax2.set_ylabel('Proportion Not Recidivised')\n",
    "ax2.set_xlabel('Days')\n",
    "ax2.legend(loc='lower left')\n",
    "ax2.grid()"
   ]
  },
  {
   "cell_type": "code",
   "execution_count": 19,
   "id": "5baf8375",
   "metadata": {
    "tags": []
   },
   "outputs": [
    {
     "data": {
      "text/plain": [
       "'Violent Text concordance: 67.42493175614194'"
      ]
     },
     "metadata": {},
     "output_type": "display_data"
    }
   ],
   "source": [
    "display(f\"Violent Text concordance: {conc.concordance_text_score(cox_df,['is_recid','score_text'],100)}\")"
   ]
  },
  {
   "cell_type": "markdown",
   "id": "60fceddd-5a45-4905-b8ef-ab3f08595908",
   "metadata": {},
   "source": [
    "# Next Section: Directions of the Racial Bias"
   ]
  },
  {
   "cell_type": "code",
   "execution_count": 127,
   "id": "f766f260-6e5c-4a84-a8f9-e077184891df",
   "metadata": {
    "tags": []
   },
   "outputs": [
    {
     "data": {
      "text/plain": [
       "1"
      ]
     },
     "execution_count": 127,
     "metadata": {},
     "output_type": "execute_result"
    }
   ],
   "source": [
    "#create class called person\n",
    "df = pd.read_csv('CompasAnalysis/cox-parsed.csv')\n",
    "df.groupby('id')['v_screening_date'].unique().apply(len).max()"
   ]
  },
  {
   "cell_type": "code",
   "execution_count": 140,
   "id": "6659717c-8abb-4b38-b78a-8bb05ddcbf86",
   "metadata": {
    "tags": []
   },
   "outputs": [],
   "source": [
    "from CompasAnalysis import truth_tables\n",
    "from csv import DictReader\n",
    "\n",
    "people = []\n",
    "with open(\"CompasAnalysis/cox-parsed.csv\") as f:\n",
    "    reader = truth_tables.PeekyReader(DictReader(f))\n",
    "    try:\n",
    "        while True:\n",
    "            p = truth_tables.Person(reader)\n",
    "            if p.valid:\n",
    "                people.append(p)\n",
    "    except StopIteration:\n",
    "        pass\n",
    "\n",
    "pop = list(filter(lambda i: ((i.recidivist == True and i.lifetime <= 730) or\n",
    "                              i.lifetime > 730), list(filter(lambda x: x.score_valid, people))))\n",
    "recid = list(filter(lambda i: i.recidivist == True and i.lifetime <= 730, pop))\n",
    "rset = set(recid)\n",
    "surv = [i for i in pop if i not in rset]\n",
    "\n",
    "\n"
   ]
  },
  {
   "cell_type": "code",
   "execution_count": 144,
   "id": "f2673654-55b9-45f5-b3c6-cd4878959768",
   "metadata": {
    "tags": []
   },
   "outputs": [
    {
     "name": "stdout",
     "output_type": "stream",
     "text": [
      "All defendants\n",
      "           \tLow\tHigh\n",
      "Survived   \t2681\t1282\t0.55\n",
      "Recidivated\t1216\t2035\t0.45\n",
      "Total: 7214.00\n",
      "False positive rate: 32.35\n",
      "False negative rate: 37.40\n",
      "Specificity: 0.68\n",
      "Sensitivity: 0.63\n",
      "Prevalence: 0.45\n",
      "PPV: 0.61\n",
      "NPV: 0.69\n",
      "LR+: 1.94\n",
      "LR-: 0.55\n"
     ]
    }
   ],
   "source": [
    "print(\"All defendants\")\n",
    "truth_tables.table(list(recid), list(surv))"
   ]
  },
  {
   "cell_type": "code",
   "execution_count": 145,
   "id": "3a55ff16-0d5b-43ea-9d5f-16b2d4c8565e",
   "metadata": {
    "tags": []
   },
   "outputs": [
    {
     "name": "stdout",
     "output_type": "stream",
     "text": [
      "Total pop: 7214\n"
     ]
    }
   ],
   "source": [
    "print(\"Total pop: %i\" % (2681 + 1282 + 1216 + 2035))"
   ]
  }
 ],
 "metadata": {
  "kernelspec": {
   "display_name": "Python 3 (ipykernel)",
   "language": "python",
   "name": "python3"
  },
  "language_info": {
   "codemirror_mode": {
    "name": "ipython",
    "version": 3
   },
   "file_extension": ".py",
   "mimetype": "text/x-python",
   "name": "python",
   "nbconvert_exporter": "python",
   "pygments_lexer": "ipython3",
   "version": "3.12.0"
  }
 },
 "nbformat": 4,
 "nbformat_minor": 5
}
